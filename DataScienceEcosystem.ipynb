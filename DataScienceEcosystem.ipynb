{
 "cells": [
  {
   "cell_type": "markdown",
   "id": "aa11acba-fa07-4455-8d6d-78d1f9f50bb8",
   "metadata": {
    "tags": []
   },
   "source": [
    "# Data Science Tools and Ecosystem"
   ]
  },
  {
   "cell_type": "markdown",
   "id": "7139037a-7448-4691-8473-9c215c589b1c",
   "metadata": {},
   "source": [
    "In this notebook, Data Science Tools and Ecosystem are summarized.\n"
   ]
  },
  {
   "cell_type": "markdown",
   "id": "4c582c53-86c9-4c1d-9a92-e588b5077550",
   "metadata": {
    "tags": []
   },
   "source": [
    "Some of the popular languages that Data Scientists use are:\n"
   ]
  },
  {
   "cell_type": "markdown",
   "id": "027b3bcf-83e1-4a80-a784-fac9ffec54e6",
   "metadata": {},
   "source": [
    " 1. Python\n",
    " 2. R\n",
    " 3. SQL\n",
    "4.  C++\n",
    "5.  Java etc..;"
   ]
  },
  {
   "cell_type": "markdown",
   "id": "3327f46c-5776-4570-8ab1-6c35aed9c053",
   "metadata": {},
   "source": [
    "Some of the commonly used libraries used by Data Scientists include:\n",
    "\n",
    "1. Tensorflow.\n",
    "2. NumPy.\n",
    "3. SciPy.\n",
    "4. Pandas.\n",
    "5. Matplotlib.\n",
    "6. Keras.\n",
    "7. Scikit-Learn.\n",
    "8. PyTorch. etc..;"
   ]
  },
  {
   "cell_type": "markdown",
   "id": "6c212d43-a299-4fb4-8eaf-ca2942b39f8e",
   "metadata": {},
   "source": [
    "| Data Science Tools|\n",
    "| :-------: | \n",
    "| SAS  |\n",
    "| Apache Hadoop |\n",
    "| Tensorflow |"
   ]
  },
  {
   "cell_type": "markdown",
   "id": "59d1940c-5e7b-4b54-a9a4-154afd19f963",
   "metadata": {},
   "source": [
    "### Below are a few examples of evaluating arithmetic expressions in Python"
   ]
  },
  {
   "cell_type": "code",
   "execution_count": 1,
   "id": "23e59bbb-6c01-46fa-9742-bd264239e44a",
   "metadata": {
    "tags": []
   },
   "outputs": [
    {
     "data": {
      "text/plain": [
       "17"
      ]
     },
     "execution_count": 1,
     "metadata": {},
     "output_type": "execute_result"
    }
   ],
   "source": [
    "(3*4)+5 #This a simple arithmetic expression to mutiply then add integers"
   ]
  },
  {
   "cell_type": "code",
   "execution_count": 3,
   "id": "89ab4113-da35-4fe0-aaae-2163b5e2a936",
   "metadata": {
    "tags": []
   },
   "outputs": [
    {
     "data": {
      "text/plain": [
       "33.333333333333336"
      ]
     },
     "execution_count": 3,
     "metadata": {},
     "output_type": "execute_result"
    }
   ],
   "source": [
    "200/6  #This will convert 200 minutes to hours by diving by 60"
   ]
  },
  {
   "cell_type": "markdown",
   "id": "08f93529-eef6-4d37-a039-b98a818ea2bc",
   "metadata": {},
   "source": [
    "\n",
    "\n",
    "**Objectives:**\n",
    "\n",
    "* List popular languages for Data Science.\n",
    "* Explain the differences between R and Python for data analysis.\n",
    "* Describe the basic functionalities of Jupyter Notebook.\n",
    "* Illustrate how to create and format tables in a notebook.\n",
    "* (Optional) Briefly mention any other key concepts covered.\n"
   ]
  },
  {
   "cell_type": "markdown",
   "id": "068ebda9-164d-4ebb-a6b8-b5fa3d3925a3",
   "metadata": {
    "tags": []
   },
   "source": [
    "Author\n",
    "## MANIKANTA PAMMI"
   ]
  },
  {
   "cell_type": "code",
   "execution_count": null,
   "id": "2fd233dd-bdd6-4672-a716-88b2e0dcc251",
   "metadata": {},
   "outputs": [],
   "source": []
  }
 ],
 "metadata": {
  "kernelspec": {
   "display_name": "Python",
   "language": "python",
   "name": "conda-env-python-py"
  },
  "language_info": {
   "codemirror_mode": {
    "name": "ipython",
    "version": 3
   },
   "file_extension": ".py",
   "mimetype": "text/x-python",
   "name": "python",
   "nbconvert_exporter": "python",
   "pygments_lexer": "ipython3",
   "version": "3.7.12"
  }
 },
 "nbformat": 4,
 "nbformat_minor": 5
}
